{
 "cells": [
  {
   "cell_type": "markdown",
   "id": "9a9ada08-c9f0-466f-91a0-265fa539f9f5",
   "metadata": {},
   "source": [
    "# Can you estimate the age of an abalone?\n",
    "\n",
    "## 📖 Background\n",
    "You are working as an intern for an abalone farming operation in Japan. For operational and environmental reasons, it is an important consideration to estimate the age of the abalones when they go to market. \n",
    "\n",
    "Determining an abalone's age involves counting the number of rings in a cross-section of the shell through a microscope. Since this method is somewhat cumbersome and complex, you are interested in helping the farmers estimate the age of the abalone using its physical characteristics."
   ]
  },
  {
   "cell_type": "markdown",
   "id": "10dcc269-3659-4851-99cd-f1ffb7f818aa",
   "metadata": {
    "tags": []
   },
   "source": [
    "## 💾 The data\n",
    "You have access to the following historical data ([source](https://archive.ics.uci.edu/ml/datasets/abalone)):\n",
    "\n",
    "#### Abalone characteristics:\n",
    "- \"sex\" - M, F, and I (infant).\n",
    "- \"length\" - longest shell measurement.\n",
    "- \"diameter\" - perpendicular to the length.\n",
    "- \"height\" - measured with meat in the shell.\n",
    "- \"whole_wt\" - whole abalone weight.\n",
    "- \"shucked_wt\" - the weight of abalone meat.\n",
    "- \"viscera_wt\" - gut-weight.\n",
    "- \"shell_wt\" - the weight of the dried shell.\n",
    "- \"rings\" - number of rings in a shell cross-section.\n",
    "- \"age\" - the age of the abalone: the number of rings + 1.5.\n",
    "\n",
    "***Acknowledgments**: Warwick J Nash, Tracy L Sellers, Simon R Talbot, Andrew J Cawthorn, and Wes B Ford (1994) \"The Population Biology of Abalone (_Haliotis_ species) in Tasmania. I. Blacklip Abalone (_H. rubra_) from the North Coast and Islands of Bass Strait\", Sea Fisheries Division, Technical Report No. 48 (ISSN 1034-3288).*"
   ]
  },
  {
   "cell_type": "markdown",
   "id": "54e0ae0c-ff96-443e-9ff3-718f1ab846e5",
   "metadata": {
    "jp-MarkdownHeadingCollapsed": true,
    "tags": []
   },
   "source": [
    "## 💪 Competition challenge\n",
    "Create a report that covers the following:\n",
    "\n",
    "1. How does weight change with age for each of the three sex categories?\n",
    "2. Can you estimate an abalone's age using its physical characteristics? \n",
    "3. Investigate which variables are better predictors of age for abalones."
   ]
  },
  {
   "cell_type": "code",
   "execution_count": 320,
   "id": "3faa3a68-ed5a-4c64-b73a-19a30c0ac007",
   "metadata": {},
   "outputs": [],
   "source": [
    "#!pip install xgboost"
   ]
  },
  {
   "cell_type": "code",
   "execution_count": 321,
   "id": "40251159-3eea-47f8-bfb4-09e38d5ced65",
   "metadata": {},
   "outputs": [],
   "source": [
    "# Import libraries\n",
    "\n",
    "import pandas as pd\n",
    "import matplotlib.pyplot as plt\n",
    "import seaborn as sb\n",
    "\n",
    "import pickle\n",
    "from sklearn.linear_model import LinearRegression\n",
    "from xgboost import XGBRegressor\n",
    "from sklearn.metrics import mean_absolute_error\n",
    "from sklearn.model_selection import train_test_split\n",
    "from sklearn.preprocessing import MinMaxScaler\n"
   ]
  },
  {
   "cell_type": "code",
   "execution_count": 322,
   "id": "d08da529",
   "metadata": {},
   "outputs": [
    {
     "data": {
      "text/html": [
       "<div>\n",
       "<style scoped>\n",
       "    .dataframe tbody tr th:only-of-type {\n",
       "        vertical-align: middle;\n",
       "    }\n",
       "\n",
       "    .dataframe tbody tr th {\n",
       "        vertical-align: top;\n",
       "    }\n",
       "\n",
       "    .dataframe thead th {\n",
       "        text-align: right;\n",
       "    }\n",
       "</style>\n",
       "<table border=\"1\" class=\"dataframe\">\n",
       "  <thead>\n",
       "    <tr style=\"text-align: right;\">\n",
       "      <th></th>\n",
       "      <th>sex</th>\n",
       "      <th>length</th>\n",
       "      <th>diameter</th>\n",
       "      <th>height</th>\n",
       "      <th>whole_wt</th>\n",
       "      <th>shucked_wt</th>\n",
       "      <th>viscera_wt</th>\n",
       "      <th>shell_wt</th>\n",
       "      <th>rings</th>\n",
       "      <th>age</th>\n",
       "    </tr>\n",
       "  </thead>\n",
       "  <tbody>\n",
       "    <tr>\n",
       "      <th>0</th>\n",
       "      <td>M</td>\n",
       "      <td>0.455</td>\n",
       "      <td>0.365</td>\n",
       "      <td>0.095</td>\n",
       "      <td>0.5140</td>\n",
       "      <td>0.2245</td>\n",
       "      <td>0.1010</td>\n",
       "      <td>0.150</td>\n",
       "      <td>15</td>\n",
       "      <td>16.5</td>\n",
       "    </tr>\n",
       "    <tr>\n",
       "      <th>1</th>\n",
       "      <td>M</td>\n",
       "      <td>0.350</td>\n",
       "      <td>0.265</td>\n",
       "      <td>0.090</td>\n",
       "      <td>0.2255</td>\n",
       "      <td>0.0995</td>\n",
       "      <td>0.0485</td>\n",
       "      <td>0.070</td>\n",
       "      <td>7</td>\n",
       "      <td>8.5</td>\n",
       "    </tr>\n",
       "    <tr>\n",
       "      <th>2</th>\n",
       "      <td>F</td>\n",
       "      <td>0.530</td>\n",
       "      <td>0.420</td>\n",
       "      <td>0.135</td>\n",
       "      <td>0.6770</td>\n",
       "      <td>0.2565</td>\n",
       "      <td>0.1415</td>\n",
       "      <td>0.210</td>\n",
       "      <td>9</td>\n",
       "      <td>10.5</td>\n",
       "    </tr>\n",
       "    <tr>\n",
       "      <th>3</th>\n",
       "      <td>M</td>\n",
       "      <td>0.440</td>\n",
       "      <td>0.365</td>\n",
       "      <td>0.125</td>\n",
       "      <td>0.5160</td>\n",
       "      <td>0.2155</td>\n",
       "      <td>0.1140</td>\n",
       "      <td>0.155</td>\n",
       "      <td>10</td>\n",
       "      <td>11.5</td>\n",
       "    </tr>\n",
       "    <tr>\n",
       "      <th>4</th>\n",
       "      <td>I</td>\n",
       "      <td>0.330</td>\n",
       "      <td>0.255</td>\n",
       "      <td>0.080</td>\n",
       "      <td>0.2050</td>\n",
       "      <td>0.0895</td>\n",
       "      <td>0.0395</td>\n",
       "      <td>0.055</td>\n",
       "      <td>7</td>\n",
       "      <td>8.5</td>\n",
       "    </tr>\n",
       "  </tbody>\n",
       "</table>\n",
       "</div>"
      ],
      "text/plain": [
       "  sex  length  diameter  height  whole_wt  shucked_wt  viscera_wt  shell_wt  \\\n",
       "0   M   0.455     0.365   0.095    0.5140      0.2245      0.1010     0.150   \n",
       "1   M   0.350     0.265   0.090    0.2255      0.0995      0.0485     0.070   \n",
       "2   F   0.530     0.420   0.135    0.6770      0.2565      0.1415     0.210   \n",
       "3   M   0.440     0.365   0.125    0.5160      0.2155      0.1140     0.155   \n",
       "4   I   0.330     0.255   0.080    0.2050      0.0895      0.0395     0.055   \n",
       "\n",
       "   rings   age  \n",
       "0     15  16.5  \n",
       "1      7   8.5  \n",
       "2      9  10.5  \n",
       "3     10  11.5  \n",
       "4      7   8.5  "
      ]
     },
     "execution_count": 322,
     "metadata": {},
     "output_type": "execute_result"
    }
   ],
   "source": [
    "#load the dataset\n",
    "\n",
    "df = pd.read_csv('abalone.csv')\n",
    "\n",
    "df.head()"
   ]
  },
  {
   "cell_type": "code",
   "execution_count": 323,
   "id": "ae849b54-14d6-41e4-9089-6bc6763e1ab3",
   "metadata": {
    "jupyter": {
     "outputs_hidden": false,
     "source_hidden": false
    }
   },
   "outputs": [
    {
     "data": {
      "text/plain": [
       "sex            object\n",
       "length        float64\n",
       "diameter      float64\n",
       "height        float64\n",
       "whole_wt      float64\n",
       "shucked_wt    float64\n",
       "viscera_wt    float64\n",
       "shell_wt      float64\n",
       "rings           int64\n",
       "age           float64\n",
       "dtype: object"
      ]
     },
     "execution_count": 323,
     "metadata": {},
     "output_type": "execute_result"
    }
   ],
   "source": [
    "# Check the datatypes\n",
    "df.dtypes"
   ]
  },
  {
   "cell_type": "markdown",
   "id": "f0adaab9",
   "metadata": {},
   "source": [
    "#### Explore general statistics of the data"
   ]
  },
  {
   "cell_type": "code",
   "execution_count": 324,
   "id": "364ea103",
   "metadata": {},
   "outputs": [
    {
     "data": {
      "text/html": [
       "<div>\n",
       "<style scoped>\n",
       "    .dataframe tbody tr th:only-of-type {\n",
       "        vertical-align: middle;\n",
       "    }\n",
       "\n",
       "    .dataframe tbody tr th {\n",
       "        vertical-align: top;\n",
       "    }\n",
       "\n",
       "    .dataframe thead th {\n",
       "        text-align: right;\n",
       "    }\n",
       "</style>\n",
       "<table border=\"1\" class=\"dataframe\">\n",
       "  <thead>\n",
       "    <tr style=\"text-align: right;\">\n",
       "      <th></th>\n",
       "      <th>length</th>\n",
       "      <th>diameter</th>\n",
       "      <th>height</th>\n",
       "      <th>whole_wt</th>\n",
       "      <th>shucked_wt</th>\n",
       "      <th>viscera_wt</th>\n",
       "      <th>shell_wt</th>\n",
       "      <th>rings</th>\n",
       "      <th>age</th>\n",
       "    </tr>\n",
       "  </thead>\n",
       "  <tbody>\n",
       "    <tr>\n",
       "      <th>count</th>\n",
       "      <td>4177.000000</td>\n",
       "      <td>4177.000000</td>\n",
       "      <td>4177.000000</td>\n",
       "      <td>4177.000000</td>\n",
       "      <td>4177.000000</td>\n",
       "      <td>4177.000000</td>\n",
       "      <td>4177.000000</td>\n",
       "      <td>4177.000000</td>\n",
       "      <td>4177.000000</td>\n",
       "    </tr>\n",
       "    <tr>\n",
       "      <th>mean</th>\n",
       "      <td>0.523992</td>\n",
       "      <td>0.407881</td>\n",
       "      <td>0.139516</td>\n",
       "      <td>0.828742</td>\n",
       "      <td>0.359367</td>\n",
       "      <td>0.180594</td>\n",
       "      <td>0.238831</td>\n",
       "      <td>9.933684</td>\n",
       "      <td>11.433684</td>\n",
       "    </tr>\n",
       "    <tr>\n",
       "      <th>std</th>\n",
       "      <td>0.120093</td>\n",
       "      <td>0.099240</td>\n",
       "      <td>0.041827</td>\n",
       "      <td>0.490389</td>\n",
       "      <td>0.221963</td>\n",
       "      <td>0.109614</td>\n",
       "      <td>0.139203</td>\n",
       "      <td>3.224169</td>\n",
       "      <td>3.224169</td>\n",
       "    </tr>\n",
       "    <tr>\n",
       "      <th>min</th>\n",
       "      <td>0.075000</td>\n",
       "      <td>0.055000</td>\n",
       "      <td>0.000000</td>\n",
       "      <td>0.002000</td>\n",
       "      <td>0.001000</td>\n",
       "      <td>0.000500</td>\n",
       "      <td>0.001500</td>\n",
       "      <td>1.000000</td>\n",
       "      <td>2.500000</td>\n",
       "    </tr>\n",
       "    <tr>\n",
       "      <th>25%</th>\n",
       "      <td>0.450000</td>\n",
       "      <td>0.350000</td>\n",
       "      <td>0.115000</td>\n",
       "      <td>0.441500</td>\n",
       "      <td>0.186000</td>\n",
       "      <td>0.093500</td>\n",
       "      <td>0.130000</td>\n",
       "      <td>8.000000</td>\n",
       "      <td>9.500000</td>\n",
       "    </tr>\n",
       "    <tr>\n",
       "      <th>50%</th>\n",
       "      <td>0.545000</td>\n",
       "      <td>0.425000</td>\n",
       "      <td>0.140000</td>\n",
       "      <td>0.799500</td>\n",
       "      <td>0.336000</td>\n",
       "      <td>0.171000</td>\n",
       "      <td>0.234000</td>\n",
       "      <td>9.000000</td>\n",
       "      <td>10.500000</td>\n",
       "    </tr>\n",
       "    <tr>\n",
       "      <th>75%</th>\n",
       "      <td>0.615000</td>\n",
       "      <td>0.480000</td>\n",
       "      <td>0.165000</td>\n",
       "      <td>1.153000</td>\n",
       "      <td>0.502000</td>\n",
       "      <td>0.253000</td>\n",
       "      <td>0.329000</td>\n",
       "      <td>11.000000</td>\n",
       "      <td>12.500000</td>\n",
       "    </tr>\n",
       "    <tr>\n",
       "      <th>max</th>\n",
       "      <td>0.815000</td>\n",
       "      <td>0.650000</td>\n",
       "      <td>1.130000</td>\n",
       "      <td>2.825500</td>\n",
       "      <td>1.488000</td>\n",
       "      <td>0.760000</td>\n",
       "      <td>1.005000</td>\n",
       "      <td>29.000000</td>\n",
       "      <td>30.500000</td>\n",
       "    </tr>\n",
       "  </tbody>\n",
       "</table>\n",
       "</div>"
      ],
      "text/plain": [
       "            length     diameter       height     whole_wt   shucked_wt  \\\n",
       "count  4177.000000  4177.000000  4177.000000  4177.000000  4177.000000   \n",
       "mean      0.523992     0.407881     0.139516     0.828742     0.359367   \n",
       "std       0.120093     0.099240     0.041827     0.490389     0.221963   \n",
       "min       0.075000     0.055000     0.000000     0.002000     0.001000   \n",
       "25%       0.450000     0.350000     0.115000     0.441500     0.186000   \n",
       "50%       0.545000     0.425000     0.140000     0.799500     0.336000   \n",
       "75%       0.615000     0.480000     0.165000     1.153000     0.502000   \n",
       "max       0.815000     0.650000     1.130000     2.825500     1.488000   \n",
       "\n",
       "        viscera_wt     shell_wt        rings          age  \n",
       "count  4177.000000  4177.000000  4177.000000  4177.000000  \n",
       "mean      0.180594     0.238831     9.933684    11.433684  \n",
       "std       0.109614     0.139203     3.224169     3.224169  \n",
       "min       0.000500     0.001500     1.000000     2.500000  \n",
       "25%       0.093500     0.130000     8.000000     9.500000  \n",
       "50%       0.171000     0.234000     9.000000    10.500000  \n",
       "75%       0.253000     0.329000    11.000000    12.500000  \n",
       "max       0.760000     1.005000    29.000000    30.500000  "
      ]
     },
     "execution_count": 324,
     "metadata": {},
     "output_type": "execute_result"
    }
   ],
   "source": [
    "\n",
    "\n",
    "df.describe()"
   ]
  },
  {
   "cell_type": "markdown",
   "id": "55b54a62",
   "metadata": {},
   "source": [
    "#### Ckeck for any missing data"
   ]
  },
  {
   "cell_type": "code",
   "execution_count": 325,
   "id": "ac880a66",
   "metadata": {},
   "outputs": [
    {
     "data": {
      "text/plain": [
       "0"
      ]
     },
     "execution_count": 325,
     "metadata": {},
     "output_type": "execute_result"
    }
   ],
   "source": [
    "\n",
    "\n",
    "df.isna().sum().sum()"
   ]
  },
  {
   "cell_type": "markdown",
   "id": "5f73070e",
   "metadata": {},
   "source": [
    "There is no misssing data"
   ]
  },
  {
   "cell_type": "markdown",
   "id": "a1e15f14",
   "metadata": {},
   "source": [
    "### Distribution of Age"
   ]
  },
  {
   "cell_type": "code",
   "execution_count": 326,
   "id": "471a4917",
   "metadata": {},
   "outputs": [
    {
     "data": {
      "image/png": "[encoded data removed]",
      "text/plain": [
       "<Figure size 576x396 with 1 Axes>"
      ]
     },
     "metadata": {},
     "output_type": "display_data"
    }
   ],
   "source": [
    "\n",
    "\n",
    "plt.style.use(\"seaborn\")\n",
    "df[\"age\"].hist();"
   ]
  },
  {
   "cell_type": "markdown",
   "id": "ffe9b0fd",
   "metadata": {},
   "source": [
    "### Distribution of all numeric features"
   ]
  },
  {
   "cell_type": "code",
   "execution_count": 327,
   "id": "c7f89a23",
   "metadata": {},
   "outputs": [
    {
     "data": {
      "image/png": "[encoded data removed]",
      "text/plain": [
       "<Figure size 576x396 with 9 Axes>"
      ]
     },
     "metadata": {},
     "output_type": "display_data"
    }
   ],
   "source": [
    "\n",
    "\n",
    "df.hist();"
   ]
  },
  {
   "cell_type": "code",
   "execution_count": 328,
   "id": "89dfa297",
   "metadata": {},
   "outputs": [
    {
     "data": {
      "image/png": "[encoded data removed]",
      "text/plain": [
       "<Figure size 576x396 with 1 Axes>"
      ]
     },
     "metadata": {},
     "output_type": "display_data"
    }
   ],
   "source": [
    "df.plot(kind=\"box\");"
   ]
  },
  {
   "cell_type": "code",
   "execution_count": 329,
   "id": "cf6f5fd6",
   "metadata": {},
   "outputs": [
    {
     "data": {
      "image/png": "[encoded data removed]",
      "text/plain": [
       "<Figure size 576x396 with 1 Axes>"
      ]
     },
     "metadata": {},
     "output_type": "display_data"
    }
   ],
   "source": [
    "df.plot(kind=\"scatter\", x='age', y='length');"
   ]
  },
  {
   "cell_type": "markdown",
   "id": "ff4b1e9c",
   "metadata": {},
   "source": [
    "There is a positive correlation between the age and lenght of an abalone."
   ]
  },
  {
   "cell_type": "markdown",
   "id": "0aee8102",
   "metadata": {},
   "source": [
    "### Relationship between age and diameter"
   ]
  },
  {
   "cell_type": "code",
   "execution_count": 330,
   "id": "83903fff",
   "metadata": {},
   "outputs": [
    {
     "data": {
      "image/png": "[encoded data removed]",
      "text/plain": [
       "<Figure size 576x396 with 1 Axes>"
      ]
     },
     "metadata": {},
     "output_type": "display_data"
    }
   ],
   "source": [
    "\n",
    "\n",
    "df.plot(kind=\"scatter\", x='age', y='diameter');"
   ]
  },
  {
   "cell_type": "code",
   "execution_count": 331,
   "id": "48c5a5a8",
   "metadata": {},
   "outputs": [
    {
     "data": {
      "image/png": "[encoded data removed]",
      "text/plain": [
       "<Figure size 576x396 with 1 Axes>"
      ]
     },
     "metadata": {},
     "output_type": "display_data"
    }
   ],
   "source": [
    "df.plot(kind=\"scatter\", x='age', y='rings');"
   ]
  },
  {
   "cell_type": "markdown",
   "id": "3d753ee9",
   "metadata": {},
   "source": [
    "### How does weight change with age for each of the three sex categories?"
   ]
  },
  {
   "cell_type": "code",
   "execution_count": 332,
   "id": "11119189",
   "metadata": {},
   "outputs": [
    {
     "data": {
      "image/png": "[encoded data removed]",
      "text/plain": [
       "<Figure size 576x396 with 1 Axes>"
      ]
     },
     "metadata": {},
     "output_type": "display_data"
    }
   ],
   "source": [
    "sb.pointplot(data=df, x=\"age\", y=\"shell_wt\", hue=\"sex\");\n",
    "plt.title(\"Weight Vs Age and Sex\")\n",
    "plt.ylabel(\"Shell Weight\")\n",
    "plt.xlabel(\"Age\");"
   ]
  },
  {
   "cell_type": "code",
   "execution_count": 333,
   "id": "3e5ae026",
   "metadata": {},
   "outputs": [
    {
     "data": {
      "image/png": "[encoded data removed]",
      "text/plain": [
       "<Figure size 576x396 with 1 Axes>"
      ]
     },
     "metadata": {},
     "output_type": "display_data"
    }
   ],
   "source": [
    "sb.pointplot(data=df, x=\"age\", y=\"whole_wt\", hue=\"sex\");\n",
    "plt.title(\"Weight Vs Age and Sex\")\n",
    "plt.ylabel(\"Whole Weight\")\n",
    "plt.xlabel(\"Age\");"
   ]
  },
  {
   "cell_type": "markdown",
   "id": "2d5036a8",
   "metadata": {},
   "source": [
    "There is no significant difference between the **male** and **female** abalones. However, **infant** records lower weight."
   ]
  },
  {
   "cell_type": "code",
   "execution_count": 334,
   "id": "f7b63587",
   "metadata": {},
   "outputs": [
    {
     "data": {
      "image/png": "[encoded data removed]",
      "text/plain": [
       "<Figure size 576x396 with 2 Axes>"
      ]
     },
     "metadata": {},
     "output_type": "display_data"
    }
   ],
   "source": [
    "sb.heatmap(df.corr());"
   ]
  },
  {
   "cell_type": "code",
   "execution_count": 335,
   "id": "3795f9dc",
   "metadata": {},
   "outputs": [
    {
     "data": {
      "text/plain": [
       "shucked_wt    0.420884\n",
       "viscera_wt    0.503819\n",
       "whole_wt      0.540390\n",
       "length        0.556720\n",
       "height        0.557467\n",
       "diameter      0.574660\n",
       "shell_wt      0.627574\n",
       "rings         1.000000\n",
       "age           1.000000\n",
       "Name: age, dtype: float64"
      ]
     },
     "execution_count": 335,
     "metadata": {},
     "output_type": "execute_result"
    }
   ],
   "source": [
    "df.corr()[\"age\"].sort_values()"
   ]
  },
  {
   "cell_type": "markdown",
   "id": "e30d9ed6",
   "metadata": {},
   "source": [
    "Shell weight diameter have a high positive correlation with the age of an abalone. As an abalone ages, the weight increases."
   ]
  },
  {
   "cell_type": "markdown",
   "id": "24d93ca8",
   "metadata": {},
   "source": [
    "## Split"
   ]
  },
  {
   "cell_type": "code",
   "execution_count": 336,
   "id": "37f7746e-df47-461a-87aa-fa2418a7ce5a",
   "metadata": {},
   "outputs": [],
   "source": [
    "def split(df, features = []):\n",
    "    \n",
    "    ''''\n",
    "    Function to split the dataset\n",
    "    \n",
    "    Parameters:\n",
    "    \n",
    "    features: (list) - features to use in the prediction\n",
    "    \n",
    "    Returns:\n",
    "    \n",
    "    X_train: DataFrame - Training feature dataset\n",
    "    X_test: DataFrame - Test feature dataset\n",
    "    X_val: DataFrame - Validation feature dataset\n",
    "    y_train: Series - Training target dataset\n",
    "    y_test: Series - Testing target dataset\n",
    "    y_val: Series - Validation target dataset\n",
    "    '''\n",
    "    # Convert categorical data to numeric representaion\n",
    "    df = pd.get_dummies(df)\n",
    "    \n",
    "    # Drop age and rings features to prevent data leakage\n",
    "\n",
    "    X = df.drop(columns=[\"age\",\"rings\"]) # Features\n",
    "    y = df[\"age\"] # Target\n",
    "    \n",
    "    # Subset features to the features provided\n",
    "    if features:\n",
    "        X = X[features]\n",
    "\n",
    "    # Split the data into train and test set. We will use 80% of the data for training\n",
    "    # and the remaining data for evaluation.\n",
    "\n",
    "    X_train, X_test, y_train, y_test = train_test_split(X,y, test_size=0.2, train_size=0.8, random_state=42, shuffle=True)\n",
    "    \n",
    "    X_train, X_val, y_train, y_val = train_test_split(X_train,y_train, test_size=0.2, train_size=0.8, random_state=42, shuffle=True)\n",
    "    \n",
    "    return X_train, X_test, X_val, y_train, y_test, y_val"
   ]
  },
  {
   "cell_type": "code",
   "execution_count": 337,
   "id": "fd4a18ad",
   "metadata": {},
   "outputs": [],
   "source": [
    "# Get the training and test sets\n",
    "X_train, X_test,X_val, y_train, y_test, y_val  = split(df)"
   ]
  },
  {
   "cell_type": "code",
   "execution_count": 338,
   "id": "c4454257",
   "metadata": {},
   "outputs": [
    {
     "data": {
      "text/plain": [
       "(2672, 10)"
      ]
     },
     "execution_count": 338,
     "metadata": {},
     "output_type": "execute_result"
    }
   ],
   "source": [
    "X_train.shape"
   ]
  },
  {
   "cell_type": "code",
   "execution_count": 339,
   "id": "a256252b",
   "metadata": {},
   "outputs": [
    {
     "data": {
      "text/plain": [
       "(2672,)"
      ]
     },
     "execution_count": 339,
     "metadata": {},
     "output_type": "execute_result"
    }
   ],
   "source": [
    "y_train.shape"
   ]
  },
  {
   "cell_type": "markdown",
   "id": "60f66f5c",
   "metadata": {},
   "source": [
    "#  Build Model"
   ]
  },
  {
   "cell_type": "markdown",
   "id": "5e045344",
   "metadata": {},
   "source": [
    "##  Baseline"
   ]
  },
  {
   "cell_type": "markdown",
   "id": "0575b499",
   "metadata": {},
   "source": [
    "Set a baseline which we will use to evaluate our model's performance."
   ]
  },
  {
   "cell_type": "code",
   "execution_count": 340,
   "id": "69764cc0",
   "metadata": {},
   "outputs": [],
   "source": [
    "y_mean = y_train.mean()"
   ]
  },
  {
   "cell_type": "markdown",
   "id": "3a8db182",
   "metadata": {},
   "source": [
    " Create a list the same length as **y_train** to store the value of **y_mean**."
   ]
  },
  {
   "cell_type": "code",
   "execution_count": 341,
   "id": "4ddc30ba",
   "metadata": {},
   "outputs": [
    {
     "data": {
      "text/plain": [
       "[11.486152694610778, 11.486152694610778, 11.486152694610778]"
      ]
     },
     "execution_count": 341,
     "metadata": {},
     "output_type": "execute_result"
    }
   ],
   "source": [
    "y_pred_baseline =  [y_mean] * len(y_train)\n",
    "\n",
    "y_pred_baseline[:3]"
   ]
  },
  {
   "cell_type": "markdown",
   "id": "6c65e3c6",
   "metadata": {},
   "source": [
    "\n",
    "Calculate the baseline mean absolute error for the predictions in **y_pred_baseline** as compared to the actual targets in **y_train**."
   ]
  },
  {
   "cell_type": "code",
   "execution_count": 342,
   "id": "ca0dd760",
   "metadata": {},
   "outputs": [
    {
     "name": "stdout",
     "output_type": "stream",
     "text": [
      "Mean apt price 11.49\n",
      "Baseline MAE: 2.37\n"
     ]
    }
   ],
   "source": [
    "mae_baseline = mean_absolute_error(y_train, y_pred_baseline)\n",
    "\n",
    "print(\"Mean apt price\", round(y_mean, 2))\n",
    "print(\"Baseline MAE:\", round(mae_baseline, 2))"
   ]
  },
  {
   "cell_type": "markdown",
   "id": "6e5022fd",
   "metadata": {},
   "source": [
    "Our next step is to build a model that beats the baseline model."
   ]
  },
  {
   "cell_type": "markdown",
   "id": "e1563ff4",
   "metadata": {},
   "source": [
    "## Iterate"
   ]
  },
  {
   "cell_type": "markdown",
   "id": "94ff1193-c371-49ee-a4a6-5b6fdc4a3067",
   "metadata": {},
   "source": [
    "Scale the data for better prediction accuracy"
   ]
  },
  {
   "cell_type": "code",
   "execution_count": 343,
   "id": "8f30e84b-e17a-4dd9-a6a1-0c39e2426254",
   "metadata": {},
   "outputs": [],
   "source": [
    "scaler = MinMaxScaler(feature_range=(0,1))\n",
    "\n",
    "features = X_train.columns\n",
    "\n",
    "X_train = scaler.fit_transform(X_train)\n",
    "X_val = scaler.transform(X_val)"
   ]
  },
  {
   "cell_type": "markdown",
   "id": "0fcef5a4",
   "metadata": {},
   "source": [
    "Initialize a **linear regression** model and fit it to the data."
   ]
  },
  {
   "cell_type": "code",
   "execution_count": 344,
   "id": "14c3bf00",
   "metadata": {},
   "outputs": [
    {
     "data": {
      "text/plain": [
       "LinearRegression(n_jobs=-1)"
      ]
     },
     "execution_count": 344,
     "metadata": {},
     "output_type": "execute_result"
    }
   ],
   "source": [
    "model = LinearRegression(n_jobs=-1)\n",
    "\n",
    "model.fit(X_train, y_train)"
   ]
  },
  {
   "cell_type": "markdown",
   "id": "4f75d92b",
   "metadata": {},
   "source": [
    "## Evaluate"
   ]
  },
  {
   "cell_type": "markdown",
   "id": "5dce0388",
   "metadata": {},
   "source": [
    "Evaluate the model on the training data."
   ]
  },
  {
   "cell_type": "code",
   "execution_count": 345,
   "id": "7e128da1",
   "metadata": {},
   "outputs": [],
   "source": [
    "y_pred_training = model.predict(X_train)"
   ]
  },
  {
   "cell_type": "markdown",
   "id": "c5bdcb9a",
   "metadata": {},
   "source": [
    "Calculate the mean absolute error for the predictions."
   ]
  },
  {
   "cell_type": "code",
   "execution_count": 346,
   "id": "365cfcd2",
   "metadata": {},
   "outputs": [
    {
     "name": "stdout",
     "output_type": "stream",
     "text": [
      "Training MAE: 1.58\n"
     ]
    }
   ],
   "source": [
    "\n",
    "mae_training = mean_absolute_error(y_train, y_pred_training)\n",
    "print(\"Training MAE:\", round(mae_training, 2))\n"
   ]
  },
  {
   "cell_type": "markdown",
   "id": "f4b3e2f4-5e7a-49b7-b2ff-eedc4dab2772",
   "metadata": {},
   "source": [
    "The linear regression model is performing better than the baseline model. Perhaps a different model could do better.\n",
    "Declare a model fitting function to test other models"
   ]
  },
  {
   "cell_type": "code",
   "execution_count": 347,
   "id": "9ce1c05e",
   "metadata": {},
   "outputs": [],
   "source": [
    "def predict(model, X_val,y_val):\n",
    "    model.fit(X_train, y_train,\n",
    "             eval_set=[(X_val, y_val)],\n",
    "             verbose=False)\n",
    "    y_pred = model.predict(X_val)\n",
    "    \n",
    "    mae = mean_absolute_error(y_val, y_pred)\n",
    "    return mae\n",
    "    "
   ]
  },
  {
   "cell_type": "code",
   "execution_count": 348,
   "id": "742b682e",
   "metadata": {},
   "outputs": [
    {
     "name": "stdout",
     "output_type": "stream",
     "text": [
      "Validation MAE 1.5261246969168853\n"
     ]
    }
   ],
   "source": [
    "from sklearn.metrics import mean_squared_error\n",
    "model = XGBRegressor(n_estimators=500, early_stopping_rounds=5, n_jobs=-1)\n",
    "mae = predict(model, X_val,y_val)\n",
    "\n",
    "print(\"Validation MAE\",mae)\n"
   ]
  },
  {
   "cell_type": "markdown",
   "id": "8977a7a5",
   "metadata": {},
   "source": [
    "This result is acceptable. Let's compare the predicted age and the actual."
   ]
  },
  {
   "cell_type": "code",
   "execution_count": 349,
   "id": "614a13fb",
   "metadata": {},
   "outputs": [
    {
     "data": {
      "text/html": [
       "<div>\n",
       "<style scoped>\n",
       "    .dataframe tbody tr th:only-of-type {\n",
       "        vertical-align: middle;\n",
       "    }\n",
       "\n",
       "    .dataframe tbody tr th {\n",
       "        vertical-align: top;\n",
       "    }\n",
       "\n",
       "    .dataframe thead th {\n",
       "        text-align: right;\n",
       "    }\n",
       "</style>\n",
       "<table border=\"1\" class=\"dataframe\">\n",
       "  <thead>\n",
       "    <tr style=\"text-align: right;\">\n",
       "      <th></th>\n",
       "      <th>actual</th>\n",
       "      <th>prediction</th>\n",
       "    </tr>\n",
       "  </thead>\n",
       "  <tbody>\n",
       "    <tr>\n",
       "      <th>1407</th>\n",
       "      <td>11.5</td>\n",
       "      <td>11.325929</td>\n",
       "    </tr>\n",
       "    <tr>\n",
       "      <th>1120</th>\n",
       "      <td>8.5</td>\n",
       "      <td>9.806689</td>\n",
       "    </tr>\n",
       "    <tr>\n",
       "      <th>199</th>\n",
       "      <td>11.5</td>\n",
       "      <td>12.895797</td>\n",
       "    </tr>\n",
       "  </tbody>\n",
       "</table>\n",
       "</div>"
      ],
      "text/plain": [
       "      actual  prediction\n",
       "1407    11.5   11.325929\n",
       "1120     8.5    9.806689\n",
       "199     11.5   12.895797"
      ]
     },
     "execution_count": 349,
     "metadata": {},
     "output_type": "execute_result"
    }
   ],
   "source": [
    "preds = model.predict(X_val)\n",
    "preds = pd.Series(preds, index=y_val.index, name=\"Predictions\")\n",
    "evaluation_df = pd.DataFrame(data={\"actual\": y_val, \"prediction\": preds})\n",
    "\n",
    "evaluation_df[:3]"
   ]
  },
  {
   "cell_type": "code",
   "execution_count": null,
   "id": "b291718b",
   "metadata": {},
   "outputs": [],
   "source": []
  },
  {
   "cell_type": "code",
   "execution_count": 350,
   "id": "16aa64ca",
   "metadata": {},
   "outputs": [
    {
     "data": {
      "image/png": "[encoded data removed]",
      "text/plain": [
       "<Figure size 576x396 with 1 Axes>"
      ]
     },
     "metadata": {},
     "output_type": "display_data"
    }
   ],
   "source": [
    "# Extract importances from model\n",
    "importances = model.feature_importances_\n",
    "\n",
    "# Create a series with feature names and importances\n",
    "feat_imp = pd.Series(importances, index=features).sort_values()\n",
    "# Plot 10 most important features\n",
    "feat_imp.plot(kind=\"barh\")\n",
    "plt.xlabel(\"Gini Importance\")\n",
    "plt.ylabel(\"Feature\")\n",
    "plt.title(\"Feature Importance\");"
   ]
  },
  {
   "cell_type": "code",
   "execution_count": 351,
   "id": "d6f3755a",
   "metadata": {},
   "outputs": [],
   "source": [
    "# Use new important features to fit the model\n",
    "features = ['shucked_wt','shell_wt']\n",
    "X_train, X_test,X_val, y_train, y_test, y_val =split(df,['shucked_wt','shell_wt'])\n",
    "\n",
    "# Scale the data\n",
    "scaler = MinMaxScaler()\n",
    "X_train = scaler.fit_transform(X_train)\n",
    "X_val = scaler.transform(X_val)"
   ]
  },
  {
   "cell_type": "code",
   "execution_count": 352,
   "id": "1afe122d",
   "metadata": {},
   "outputs": [
    {
     "data": {
      "text/plain": [
       "1.5177119544446913"
      ]
     },
     "execution_count": 352,
     "metadata": {},
     "output_type": "execute_result"
    }
   ],
   "source": [
    "predict(model, X_val, y_val)"
   ]
  },
  {
   "cell_type": "markdown",
   "id": "06624cb6",
   "metadata": {},
   "source": [
    "The model performs better when fitted with the two features: **shucked_wt**,  and **shell_wt**"
   ]
  },
  {
   "cell_type": "markdown",
   "id": "db58ceb6",
   "metadata": {},
   "source": [
    "# Communicate Results"
   ]
  },
  {
   "cell_type": "code",
   "execution_count": 353,
   "id": "8d8df76e",
   "metadata": {},
   "outputs": [
    {
     "data": {
      "image/png": "[encoded data removed]",
      "text/plain": [
       "<Figure size 576x396 with 1 Axes>"
      ]
     },
     "metadata": {},
     "output_type": "display_data"
    }
   ],
   "source": [
    "# Extract importances from model\n",
    "importances = model.feature_importances_\n",
    "\n",
    "# Create a series with feature names and importances\n",
    "feat_imp = pd.Series(importances, index=features).sort_values()\n",
    "# Plot\n",
    "feat_imp.tail(2).plot(kind=\"barh\")\n",
    "plt.xlabel(\"Gini Importance\")\n",
    "plt.ylabel(\"Feature\")\n",
    "plt.title(\"Feature Importance\");"
   ]
  },
  {
   "cell_type": "code",
   "execution_count": 354,
   "id": "bd5659b5",
   "metadata": {},
   "outputs": [],
   "source": [
    "# Save model\n",
    "with open(\"model-abalone-age.pkl\", \"wb\")as file:\n",
    "    pickle.dump(model, file)"
   ]
  },
  {
   "cell_type": "code",
   "execution_count": 355,
   "id": "572e277e",
   "metadata": {},
   "outputs": [
    {
     "data": {
      "text/html": [
       "<div>\n",
       "<style scoped>\n",
       "    .dataframe tbody tr th:only-of-type {\n",
       "        vertical-align: middle;\n",
       "    }\n",
       "\n",
       "    .dataframe tbody tr th {\n",
       "        vertical-align: top;\n",
       "    }\n",
       "\n",
       "    .dataframe thead th {\n",
       "        text-align: right;\n",
       "    }\n",
       "</style>\n",
       "<table border=\"1\" class=\"dataframe\">\n",
       "  <thead>\n",
       "    <tr style=\"text-align: right;\">\n",
       "      <th></th>\n",
       "      <th>actual</th>\n",
       "      <th>prediction</th>\n",
       "    </tr>\n",
       "  </thead>\n",
       "  <tbody>\n",
       "    <tr>\n",
       "      <th>866</th>\n",
       "      <td>10.5</td>\n",
       "      <td>13.616326</td>\n",
       "    </tr>\n",
       "    <tr>\n",
       "      <th>1483</th>\n",
       "      <td>9.5</td>\n",
       "      <td>11.706220</td>\n",
       "    </tr>\n",
       "    <tr>\n",
       "      <th>599</th>\n",
       "      <td>17.5</td>\n",
       "      <td>14.160778</td>\n",
       "    </tr>\n",
       "    <tr>\n",
       "      <th>1702</th>\n",
       "      <td>10.5</td>\n",
       "      <td>12.051861</td>\n",
       "    </tr>\n",
       "    <tr>\n",
       "      <th>670</th>\n",
       "      <td>15.5</td>\n",
       "      <td>13.391311</td>\n",
       "    </tr>\n",
       "    <tr>\n",
       "      <th>2430</th>\n",
       "      <td>12.5</td>\n",
       "      <td>12.717700</td>\n",
       "    </tr>\n",
       "    <tr>\n",
       "      <th>1590</th>\n",
       "      <td>8.5</td>\n",
       "      <td>12.031348</td>\n",
       "    </tr>\n",
       "    <tr>\n",
       "      <th>949</th>\n",
       "      <td>7.5</td>\n",
       "      <td>10.382625</td>\n",
       "    </tr>\n",
       "    <tr>\n",
       "      <th>4026</th>\n",
       "      <td>8.5</td>\n",
       "      <td>8.421834</td>\n",
       "    </tr>\n",
       "    <tr>\n",
       "      <th>3668</th>\n",
       "      <td>11.5</td>\n",
       "      <td>12.171605</td>\n",
       "    </tr>\n",
       "  </tbody>\n",
       "</table>\n",
       "</div>"
      ],
      "text/plain": [
       "      actual  prediction\n",
       "866     10.5   13.616326\n",
       "1483     9.5   11.706220\n",
       "599     17.5   14.160778\n",
       "1702    10.5   12.051861\n",
       "670     15.5   13.391311\n",
       "2430    12.5   12.717700\n",
       "1590     8.5   12.031348\n",
       "949      7.5   10.382625\n",
       "4026     8.5    8.421834\n",
       "3668    11.5   12.171605"
      ]
     },
     "execution_count": 355,
     "metadata": {},
     "output_type": "execute_result"
    }
   ],
   "source": [
    "X_test = scaler.transform(X_test)\n",
    "predictions = model.predict(X_test)\n",
    "predictions = pd.Series(predictions, index=y_test.index, name=\"Predictions\")\n",
    "df_results = pd.DataFrame(data={\"actual\": y_test, \"prediction\": predictions})\n",
    "\n",
    "df_results[:10]"
   ]
  },
  {
   "cell_type": "code",
   "execution_count": 357,
   "id": "7627f86f",
   "metadata": {},
   "outputs": [
    {
     "name": "stdout",
     "output_type": "stream",
     "text": [
      "1.5990746796986703\n"
     ]
    }
   ],
   "source": [
    "mae = mean_absolute_error(y_test, predictions)\n",
    "print(mae)"
   ]
  },
  {
   "cell_type": "markdown",
   "id": "e30be1f7",
   "metadata": {},
   "source": [
    "## Conclusions\n",
    "\n",
    "1. **Shell weight**  and **shucked weight** are the most important predictors for the age of an abalone.\n",
    "2. There is no significant difference between the male and female abalones. However, infant records lower weight."
   ]
  }
 ],
 "metadata": {
  "kernelspec": {
   "display_name": "Python 3 (ipykernel)",
   "language": "python",
   "name": "python3"
  },
  "language_info": {
   "codemirror_mode": {
    "name": "ipython",
    "version": 3
   },
   "file_extension": ".py",
   "mimetype": "text/x-python",
   "name": "python",
   "nbconvert_exporter": "python",
   "pygments_lexer": "ipython3",
   "version": "3.9.7"
  }
 },
 "nbformat": 4,
 "nbformat_minor": 5
}
