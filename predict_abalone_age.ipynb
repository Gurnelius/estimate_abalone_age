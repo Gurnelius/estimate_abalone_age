{
 "cells": [
  {
   "cell_type": "markdown",
   "id": "9a9ada08-c9f0-466f-91a0-265fa539f9f5",
   "metadata": {},
   "source": [
    "# Can you estimate the age of an abalone?\n",
    "\n",
    "## 📖 Background\n",
    "You are working as an intern for an abalone farming operation in Japan. For operational and environmental reasons, it is an important consideration to estimate the age of the abalones when they go to market. \n",
    "\n",
    "Determining an abalone's age involves counting the number of rings in a cross-section of the shell through a microscope. Since this method is somewhat cumbersome and complex, you are interested in helping the farmers estimate the age of the abalone using its physical characteristics."
   ]
  },
  {
   "cell_type": "markdown",
   "id": "10dcc269-3659-4851-99cd-f1ffb7f818aa",
   "metadata": {
    "tags": []
   },
   "source": [
    "## 💾 The data\n",
    "You have access to the following historical data ([source](https://archive.ics.uci.edu/ml/datasets/abalone)):\n",
    "\n",
    "#### Abalone characteristics:\n",
    "- \"sex\" - M, F, and I (infant).\n",
    "- \"length\" - longest shell measurement.\n",
    "- \"diameter\" - perpendicular to the length.\n",
    "- \"height\" - measured with meat in the shell.\n",
    "- \"whole_wt\" - whole abalone weight.\n",
    "- \"shucked_wt\" - the weight of abalone meat.\n",
    "- \"viscera_wt\" - gut-weight.\n",
    "- \"shell_wt\" - the weight of the dried shell.\n",
    "- \"rings\" - number of rings in a shell cross-section.\n",
    "- \"age\" - the age of the abalone: the number of rings + 1.5.\n",
    "\n",
    "***Acknowledgments**: Warwick J Nash, Tracy L Sellers, Simon R Talbot, Andrew J Cawthorn, and Wes B Ford (1994) \"The Population Biology of Abalone (_Haliotis_ species) in Tasmania. I. Blacklip Abalone (_H. rubra_) from the North Coast and Islands of Bass Strait\", Sea Fisheries Division, Technical Report No. 48 (ISSN 1034-3288).*"
   ]
  },
  {
   "cell_type": "markdown",
   "id": "54e0ae0c-ff96-443e-9ff3-718f1ab846e5",
   "metadata": {
    "jp-MarkdownHeadingCollapsed": true,
    "tags": []
   },
   "source": [
    "## 💪 Competition challenge\n",
    "Create a report that covers the following:\n",
    "\n",
    "1. How does weight change with age for each of the three sex categories?\n",
    "2. Can you estimate an abalone's age using its physical characteristics? \n",
    "3. Investigate which variables are better predictors of age for abalones."
   ]
  },
  {
   "cell_type": "code",
   "execution_count": 160,
   "id": "40251159-3eea-47f8-bfb4-09e38d5ced65",
   "metadata": {},
   "outputs": [
    {
     "data": {
      "text/html": [
       "<div>\n",
       "<style scoped>\n",
       "    .dataframe tbody tr th:only-of-type {\n",
       "        vertical-align: middle;\n",
       "    }\n",
       "\n",
       "    .dataframe tbody tr th {\n",
       "        vertical-align: top;\n",
       "    }\n",
       "\n",
       "    .dataframe thead th {\n",
       "        text-align: right;\n",
       "    }\n",
       "</style>\n",
       "<table border=\"1\" class=\"dataframe\">\n",
       "  <thead>\n",
       "    <tr style=\"text-align: right;\">\n",
       "      <th></th>\n",
       "      <th>sex</th>\n",
       "      <th>length</th>\n",
       "      <th>diameter</th>\n",
       "      <th>height</th>\n",
       "      <th>whole_wt</th>\n",
       "      <th>shucked_wt</th>\n",
       "      <th>viscera_wt</th>\n",
       "      <th>shell_wt</th>\n",
       "      <th>rings</th>\n",
       "      <th>age</th>\n",
       "    </tr>\n",
       "  </thead>\n",
       "  <tbody>\n",
       "    <tr>\n",
       "      <th>0</th>\n",
       "      <td>M</td>\n",
       "      <td>0.455</td>\n",
       "      <td>0.365</td>\n",
       "      <td>0.095</td>\n",
       "      <td>0.5140</td>\n",
       "      <td>0.2245</td>\n",
       "      <td>0.1010</td>\n",
       "      <td>0.1500</td>\n",
       "      <td>15</td>\n",
       "      <td>16.5</td>\n",
       "    </tr>\n",
       "    <tr>\n",
       "      <th>1</th>\n",
       "      <td>M</td>\n",
       "      <td>0.350</td>\n",
       "      <td>0.265</td>\n",
       "      <td>0.090</td>\n",
       "      <td>0.2255</td>\n",
       "      <td>0.0995</td>\n",
       "      <td>0.0485</td>\n",
       "      <td>0.0700</td>\n",
       "      <td>7</td>\n",
       "      <td>8.5</td>\n",
       "    </tr>\n",
       "    <tr>\n",
       "      <th>2</th>\n",
       "      <td>F</td>\n",
       "      <td>0.530</td>\n",
       "      <td>0.420</td>\n",
       "      <td>0.135</td>\n",
       "      <td>0.6770</td>\n",
       "      <td>0.2565</td>\n",
       "      <td>0.1415</td>\n",
       "      <td>0.2100</td>\n",
       "      <td>9</td>\n",
       "      <td>10.5</td>\n",
       "    </tr>\n",
       "    <tr>\n",
       "      <th>3</th>\n",
       "      <td>M</td>\n",
       "      <td>0.440</td>\n",
       "      <td>0.365</td>\n",
       "      <td>0.125</td>\n",
       "      <td>0.5160</td>\n",
       "      <td>0.2155</td>\n",
       "      <td>0.1140</td>\n",
       "      <td>0.1550</td>\n",
       "      <td>10</td>\n",
       "      <td>11.5</td>\n",
       "    </tr>\n",
       "    <tr>\n",
       "      <th>4</th>\n",
       "      <td>I</td>\n",
       "      <td>0.330</td>\n",
       "      <td>0.255</td>\n",
       "      <td>0.080</td>\n",
       "      <td>0.2050</td>\n",
       "      <td>0.0895</td>\n",
       "      <td>0.0395</td>\n",
       "      <td>0.0550</td>\n",
       "      <td>7</td>\n",
       "      <td>8.5</td>\n",
       "    </tr>\n",
       "    <tr>\n",
       "      <th>...</th>\n",
       "      <td>...</td>\n",
       "      <td>...</td>\n",
       "      <td>...</td>\n",
       "      <td>...</td>\n",
       "      <td>...</td>\n",
       "      <td>...</td>\n",
       "      <td>...</td>\n",
       "      <td>...</td>\n",
       "      <td>...</td>\n",
       "      <td>...</td>\n",
       "    </tr>\n",
       "    <tr>\n",
       "      <th>4172</th>\n",
       "      <td>F</td>\n",
       "      <td>0.565</td>\n",
       "      <td>0.450</td>\n",
       "      <td>0.165</td>\n",
       "      <td>0.8870</td>\n",
       "      <td>0.3700</td>\n",
       "      <td>0.2390</td>\n",
       "      <td>0.2490</td>\n",
       "      <td>11</td>\n",
       "      <td>12.5</td>\n",
       "    </tr>\n",
       "    <tr>\n",
       "      <th>4173</th>\n",
       "      <td>M</td>\n",
       "      <td>0.590</td>\n",
       "      <td>0.440</td>\n",
       "      <td>0.135</td>\n",
       "      <td>0.9660</td>\n",
       "      <td>0.4390</td>\n",
       "      <td>0.2145</td>\n",
       "      <td>0.2605</td>\n",
       "      <td>10</td>\n",
       "      <td>11.5</td>\n",
       "    </tr>\n",
       "    <tr>\n",
       "      <th>4174</th>\n",
       "      <td>M</td>\n",
       "      <td>0.600</td>\n",
       "      <td>0.475</td>\n",
       "      <td>0.205</td>\n",
       "      <td>1.1760</td>\n",
       "      <td>0.5255</td>\n",
       "      <td>0.2875</td>\n",
       "      <td>0.3080</td>\n",
       "      <td>9</td>\n",
       "      <td>10.5</td>\n",
       "    </tr>\n",
       "    <tr>\n",
       "      <th>4175</th>\n",
       "      <td>F</td>\n",
       "      <td>0.625</td>\n",
       "      <td>0.485</td>\n",
       "      <td>0.150</td>\n",
       "      <td>1.0945</td>\n",
       "      <td>0.5310</td>\n",
       "      <td>0.2610</td>\n",
       "      <td>0.2960</td>\n",
       "      <td>10</td>\n",
       "      <td>11.5</td>\n",
       "    </tr>\n",
       "    <tr>\n",
       "      <th>4176</th>\n",
       "      <td>M</td>\n",
       "      <td>0.710</td>\n",
       "      <td>0.555</td>\n",
       "      <td>0.195</td>\n",
       "      <td>1.9485</td>\n",
       "      <td>0.9455</td>\n",
       "      <td>0.3765</td>\n",
       "      <td>0.4950</td>\n",
       "      <td>12</td>\n",
       "      <td>13.5</td>\n",
       "    </tr>\n",
       "  </tbody>\n",
       "</table>\n",
       "<p>4177 rows × 10 columns</p>\n",
       "</div>"
      ],
      "text/plain": [
       "     sex  length  diameter  height  whole_wt  shucked_wt  viscera_wt  \\\n",
       "0      M   0.455     0.365   0.095    0.5140      0.2245      0.1010   \n",
       "1      M   0.350     0.265   0.090    0.2255      0.0995      0.0485   \n",
       "2      F   0.530     0.420   0.135    0.6770      0.2565      0.1415   \n",
       "3      M   0.440     0.365   0.125    0.5160      0.2155      0.1140   \n",
       "4      I   0.330     0.255   0.080    0.2050      0.0895      0.0395   \n",
       "...   ..     ...       ...     ...       ...         ...         ...   \n",
       "4172   F   0.565     0.450   0.165    0.8870      0.3700      0.2390   \n",
       "4173   M   0.590     0.440   0.135    0.9660      0.4390      0.2145   \n",
       "4174   M   0.600     0.475   0.205    1.1760      0.5255      0.2875   \n",
       "4175   F   0.625     0.485   0.150    1.0945      0.5310      0.2610   \n",
       "4176   M   0.710     0.555   0.195    1.9485      0.9455      0.3765   \n",
       "\n",
       "      shell_wt  rings   age  \n",
       "0       0.1500     15  16.5  \n",
       "1       0.0700      7   8.5  \n",
       "2       0.2100      9  10.5  \n",
       "3       0.1550     10  11.5  \n",
       "4       0.0550      7   8.5  \n",
       "...        ...    ...   ...  \n",
       "4172    0.2490     11  12.5  \n",
       "4173    0.2605     10  11.5  \n",
       "4174    0.3080      9  10.5  \n",
       "4175    0.2960     10  11.5  \n",
       "4176    0.4950     12  13.5  \n",
       "\n",
       "[4177 rows x 10 columns]"
      ]
     },
     "execution_count": 160,
     "metadata": {},
     "output_type": "execute_result"
    }
   ],
   "source": [
    "import pandas as pd\n",
    "abalone = pd.read_csv('abalone.csv')\n",
    "abalone"
   ]
  },
  {
   "cell_type": "code",
   "execution_count": 161,
   "id": "ae849b54-14d6-41e4-9089-6bc6763e1ab3",
   "metadata": {
    "jupyter": {
     "outputs_hidden": false,
     "source_hidden": false
    }
   },
   "outputs": [
    {
     "data": {
      "text/plain": [
       "sex            object\n",
       "length        float64\n",
       "diameter      float64\n",
       "height        float64\n",
       "whole_wt      float64\n",
       "shucked_wt    float64\n",
       "viscera_wt    float64\n",
       "shell_wt      float64\n",
       "rings           int64\n",
       "age           float64\n",
       "dtype: object"
      ]
     },
     "execution_count": 161,
     "metadata": {},
     "output_type": "execute_result"
    }
   ],
   "source": [
    "abalone.dtypes"
   ]
  },
  {
   "cell_type": "markdown",
   "id": "f0adaab9",
   "metadata": {},
   "source": [
    "#### Explore general statistics of the data"
   ]
  },
  {
   "cell_type": "code",
   "execution_count": 162,
   "id": "364ea103",
   "metadata": {},
   "outputs": [
    {
     "data": {
      "text/html": [
       "<div>\n",
       "<style scoped>\n",
       "    .dataframe tbody tr th:only-of-type {\n",
       "        vertical-align: middle;\n",
       "    }\n",
       "\n",
       "    .dataframe tbody tr th {\n",
       "        vertical-align: top;\n",
       "    }\n",
       "\n",
       "    .dataframe thead th {\n",
       "        text-align: right;\n",
       "    }\n",
       "</style>\n",
       "<table border=\"1\" class=\"dataframe\">\n",
       "  <thead>\n",
       "    <tr style=\"text-align: right;\">\n",
       "      <th></th>\n",
       "      <th>length</th>\n",
       "      <th>diameter</th>\n",
       "      <th>height</th>\n",
       "      <th>whole_wt</th>\n",
       "      <th>shucked_wt</th>\n",
       "      <th>viscera_wt</th>\n",
       "      <th>shell_wt</th>\n",
       "      <th>rings</th>\n",
       "      <th>age</th>\n",
       "    </tr>\n",
       "  </thead>\n",
       "  <tbody>\n",
       "    <tr>\n",
       "      <th>count</th>\n",
       "      <td>4177.000000</td>\n",
       "      <td>4177.000000</td>\n",
       "      <td>4177.000000</td>\n",
       "      <td>4177.000000</td>\n",
       "      <td>4177.000000</td>\n",
       "      <td>4177.000000</td>\n",
       "      <td>4177.000000</td>\n",
       "      <td>4177.000000</td>\n",
       "      <td>4177.000000</td>\n",
       "    </tr>\n",
       "    <tr>\n",
       "      <th>mean</th>\n",
       "      <td>0.523992</td>\n",
       "      <td>0.407881</td>\n",
       "      <td>0.139516</td>\n",
       "      <td>0.828742</td>\n",
       "      <td>0.359367</td>\n",
       "      <td>0.180594</td>\n",
       "      <td>0.238831</td>\n",
       "      <td>9.933684</td>\n",
       "      <td>11.433684</td>\n",
       "    </tr>\n",
       "    <tr>\n",
       "      <th>std</th>\n",
       "      <td>0.120093</td>\n",
       "      <td>0.099240</td>\n",
       "      <td>0.041827</td>\n",
       "      <td>0.490389</td>\n",
       "      <td>0.221963</td>\n",
       "      <td>0.109614</td>\n",
       "      <td>0.139203</td>\n",
       "      <td>3.224169</td>\n",
       "      <td>3.224169</td>\n",
       "    </tr>\n",
       "    <tr>\n",
       "      <th>min</th>\n",
       "      <td>0.075000</td>\n",
       "      <td>0.055000</td>\n",
       "      <td>0.000000</td>\n",
       "      <td>0.002000</td>\n",
       "      <td>0.001000</td>\n",
       "      <td>0.000500</td>\n",
       "      <td>0.001500</td>\n",
       "      <td>1.000000</td>\n",
       "      <td>2.500000</td>\n",
       "    </tr>\n",
       "    <tr>\n",
       "      <th>25%</th>\n",
       "      <td>0.450000</td>\n",
       "      <td>0.350000</td>\n",
       "      <td>0.115000</td>\n",
       "      <td>0.441500</td>\n",
       "      <td>0.186000</td>\n",
       "      <td>0.093500</td>\n",
       "      <td>0.130000</td>\n",
       "      <td>8.000000</td>\n",
       "      <td>9.500000</td>\n",
       "    </tr>\n",
       "    <tr>\n",
       "      <th>50%</th>\n",
       "      <td>0.545000</td>\n",
       "      <td>0.425000</td>\n",
       "      <td>0.140000</td>\n",
       "      <td>0.799500</td>\n",
       "      <td>0.336000</td>\n",
       "      <td>0.171000</td>\n",
       "      <td>0.234000</td>\n",
       "      <td>9.000000</td>\n",
       "      <td>10.500000</td>\n",
       "    </tr>\n",
       "    <tr>\n",
       "      <th>75%</th>\n",
       "      <td>0.615000</td>\n",
       "      <td>0.480000</td>\n",
       "      <td>0.165000</td>\n",
       "      <td>1.153000</td>\n",
       "      <td>0.502000</td>\n",
       "      <td>0.253000</td>\n",
       "      <td>0.329000</td>\n",
       "      <td>11.000000</td>\n",
       "      <td>12.500000</td>\n",
       "    </tr>\n",
       "    <tr>\n",
       "      <th>max</th>\n",
       "      <td>0.815000</td>\n",
       "      <td>0.650000</td>\n",
       "      <td>1.130000</td>\n",
       "      <td>2.825500</td>\n",
       "      <td>1.488000</td>\n",
       "      <td>0.760000</td>\n",
       "      <td>1.005000</td>\n",
       "      <td>29.000000</td>\n",
       "      <td>30.500000</td>\n",
       "    </tr>\n",
       "  </tbody>\n",
       "</table>\n",
       "</div>"
      ],
      "text/plain": [
       "            length     diameter       height     whole_wt   shucked_wt  \\\n",
       "count  4177.000000  4177.000000  4177.000000  4177.000000  4177.000000   \n",
       "mean      0.523992     0.407881     0.139516     0.828742     0.359367   \n",
       "std       0.120093     0.099240     0.041827     0.490389     0.221963   \n",
       "min       0.075000     0.055000     0.000000     0.002000     0.001000   \n",
       "25%       0.450000     0.350000     0.115000     0.441500     0.186000   \n",
       "50%       0.545000     0.425000     0.140000     0.799500     0.336000   \n",
       "75%       0.615000     0.480000     0.165000     1.153000     0.502000   \n",
       "max       0.815000     0.650000     1.130000     2.825500     1.488000   \n",
       "\n",
       "        viscera_wt     shell_wt        rings          age  \n",
       "count  4177.000000  4177.000000  4177.000000  4177.000000  \n",
       "mean      0.180594     0.238831     9.933684    11.433684  \n",
       "std       0.109614     0.139203     3.224169     3.224169  \n",
       "min       0.000500     0.001500     1.000000     2.500000  \n",
       "25%       0.093500     0.130000     8.000000     9.500000  \n",
       "50%       0.171000     0.234000     9.000000    10.500000  \n",
       "75%       0.253000     0.329000    11.000000    12.500000  \n",
       "max       0.760000     1.005000    29.000000    30.500000  "
      ]
     },
     "execution_count": 162,
     "metadata": {},
     "output_type": "execute_result"
    }
   ],
   "source": [
    "abalone.describe()"
   ]
  },
  {
   "cell_type": "markdown",
   "id": "55b54a62",
   "metadata": {},
   "source": [
    "#### Ckeck for any missing data"
   ]
  },
  {
   "cell_type": "code",
   "execution_count": 163,
   "id": "ac880a66",
   "metadata": {},
   "outputs": [
    {
     "data": {
      "text/plain": [
       "sex           0\n",
       "length        0\n",
       "diameter      0\n",
       "height        0\n",
       "whole_wt      0\n",
       "shucked_wt    0\n",
       "viscera_wt    0\n",
       "shell_wt      0\n",
       "rings         0\n",
       "age           0\n",
       "dtype: int64"
      ]
     },
     "execution_count": 163,
     "metadata": {},
     "output_type": "execute_result"
    }
   ],
   "source": [
    "abalone.isna().sum()"
   ]
  },
  {
   "cell_type": "code",
   "execution_count": 164,
   "id": "471a4917",
   "metadata": {},
   "outputs": [
    {
     "data": {
      "image/png": "[encoded data removed]",
      "text/plain": [
       "<Figure size 432x288 with 1 Axes>"
      ]
     },
     "metadata": {
      "needs_background": "light"
     },
     "output_type": "display_data"
    }
   ],
   "source": [
    "abalone[\"age\"].hist();"
   ]
  },
  {
   "cell_type": "code",
   "execution_count": 165,
   "id": "3221dcb2",
   "metadata": {},
   "outputs": [
    {
     "data": {
      "image/png": "[encoded data removed]",
      "text/plain": [
       "<Figure size 432x288 with 9 Axes>"
      ]
     },
     "metadata": {
      "needs_background": "light"
     },
     "output_type": "display_data"
    }
   ],
   "source": [
    "abalone.hist();"
   ]
  },
  {
   "cell_type": "code",
   "execution_count": 166,
   "id": "89dfa297",
   "metadata": {},
   "outputs": [
    {
     "data": {
      "text/plain": [
       "<AxesSubplot:>"
      ]
     },
     "execution_count": 166,
     "metadata": {},
     "output_type": "execute_result"
    },
    {
     "data": {
      "image/png": "[encoded data removed]",
      "text/plain": [
       "<Figure size 432x288 with 1 Axes>"
      ]
     },
     "metadata": {
      "needs_background": "light"
     },
     "output_type": "display_data"
    }
   ],
   "source": [
    "abalone[\"length\"].plot(kind=\"box\")"
   ]
  },
  {
   "cell_type": "code",
   "execution_count": 167,
   "id": "cf6f5fd6",
   "metadata": {},
   "outputs": [
    {
     "data": {
      "image/png": "[encoded data removed]",
      "text/plain": [
       "<Figure size 432x288 with 1 Axes>"
      ]
     },
     "metadata": {
      "needs_background": "light"
     },
     "output_type": "display_data"
    }
   ],
   "source": [
    "abalone.plot(kind=\"scatter\", x='age', y='length');"
   ]
  },
  {
   "cell_type": "code",
   "execution_count": 168,
   "id": "aee33ec1",
   "metadata": {},
   "outputs": [
    {
     "data": {
      "image/png": "[encoded data removed]",
      "text/plain": [
       "<Figure size 432x288 with 1 Axes>"
      ]
     },
     "metadata": {
      "needs_background": "light"
     },
     "output_type": "display_data"
    }
   ],
   "source": [
    "abalone.plot(kind=\"scatter\", x='age', y='diameter');"
   ]
  },
  {
   "cell_type": "code",
   "execution_count": 169,
   "id": "48c5a5a8",
   "metadata": {},
   "outputs": [
    {
     "data": {
      "image/png": "[encoded data removed]",
      "text/plain": [
       "<Figure size 432x288 with 1 Axes>"
      ]
     },
     "metadata": {
      "needs_background": "light"
     },
     "output_type": "display_data"
    }
   ],
   "source": [
    "abalone.plot(kind=\"scatter\", x='age', y='rings');"
   ]
  },
  {
   "cell_type": "code",
   "execution_count": 259,
   "id": "f7b63587",
   "metadata": {},
   "outputs": [],
   "source": [
    "from sklearn.ensemble import RandomForestClassifier\n",
    "from sklearn.linear_model import LinearRegression\n",
    "from sklearn.metrics import mean_absolute_error\n",
    "from sklearn.model_selection import train_test_split\n",
    "from sklearn.preprocessing import MinMaxScaler"
   ]
  },
  {
   "cell_type": "markdown",
   "id": "35b5e35c",
   "metadata": {},
   "source": [
    "### Data preprocessing"
   ]
  },
  {
   "cell_type": "markdown",
   "id": "b2615e31",
   "metadata": {},
   "source": [
    "Convert categorical columns into numeric representation"
   ]
  },
  {
   "cell_type": "code",
   "execution_count": 171,
   "id": "a8b2452f",
   "metadata": {},
   "outputs": [
    {
     "data": {
      "text/html": [
       "<div>\n",
       "<style scoped>\n",
       "    .dataframe tbody tr th:only-of-type {\n",
       "        vertical-align: middle;\n",
       "    }\n",
       "\n",
       "    .dataframe tbody tr th {\n",
       "        vertical-align: top;\n",
       "    }\n",
       "\n",
       "    .dataframe thead th {\n",
       "        text-align: right;\n",
       "    }\n",
       "</style>\n",
       "<table border=\"1\" class=\"dataframe\">\n",
       "  <thead>\n",
       "    <tr style=\"text-align: right;\">\n",
       "      <th></th>\n",
       "      <th>length</th>\n",
       "      <th>diameter</th>\n",
       "      <th>height</th>\n",
       "      <th>whole_wt</th>\n",
       "      <th>shucked_wt</th>\n",
       "      <th>viscera_wt</th>\n",
       "      <th>shell_wt</th>\n",
       "      <th>rings</th>\n",
       "      <th>age</th>\n",
       "      <th>sex_F</th>\n",
       "      <th>sex_I</th>\n",
       "      <th>sex_M</th>\n",
       "    </tr>\n",
       "  </thead>\n",
       "  <tbody>\n",
       "    <tr>\n",
       "      <th>0</th>\n",
       "      <td>0.455</td>\n",
       "      <td>0.365</td>\n",
       "      <td>0.095</td>\n",
       "      <td>0.5140</td>\n",
       "      <td>0.2245</td>\n",
       "      <td>0.1010</td>\n",
       "      <td>0.150</td>\n",
       "      <td>15</td>\n",
       "      <td>16.5</td>\n",
       "      <td>0</td>\n",
       "      <td>0</td>\n",
       "      <td>1</td>\n",
       "    </tr>\n",
       "    <tr>\n",
       "      <th>1</th>\n",
       "      <td>0.350</td>\n",
       "      <td>0.265</td>\n",
       "      <td>0.090</td>\n",
       "      <td>0.2255</td>\n",
       "      <td>0.0995</td>\n",
       "      <td>0.0485</td>\n",
       "      <td>0.070</td>\n",
       "      <td>7</td>\n",
       "      <td>8.5</td>\n",
       "      <td>0</td>\n",
       "      <td>0</td>\n",
       "      <td>1</td>\n",
       "    </tr>\n",
       "    <tr>\n",
       "      <th>2</th>\n",
       "      <td>0.530</td>\n",
       "      <td>0.420</td>\n",
       "      <td>0.135</td>\n",
       "      <td>0.6770</td>\n",
       "      <td>0.2565</td>\n",
       "      <td>0.1415</td>\n",
       "      <td>0.210</td>\n",
       "      <td>9</td>\n",
       "      <td>10.5</td>\n",
       "      <td>1</td>\n",
       "      <td>0</td>\n",
       "      <td>0</td>\n",
       "    </tr>\n",
       "    <tr>\n",
       "      <th>3</th>\n",
       "      <td>0.440</td>\n",
       "      <td>0.365</td>\n",
       "      <td>0.125</td>\n",
       "      <td>0.5160</td>\n",
       "      <td>0.2155</td>\n",
       "      <td>0.1140</td>\n",
       "      <td>0.155</td>\n",
       "      <td>10</td>\n",
       "      <td>11.5</td>\n",
       "      <td>0</td>\n",
       "      <td>0</td>\n",
       "      <td>1</td>\n",
       "    </tr>\n",
       "    <tr>\n",
       "      <th>4</th>\n",
       "      <td>0.330</td>\n",
       "      <td>0.255</td>\n",
       "      <td>0.080</td>\n",
       "      <td>0.2050</td>\n",
       "      <td>0.0895</td>\n",
       "      <td>0.0395</td>\n",
       "      <td>0.055</td>\n",
       "      <td>7</td>\n",
       "      <td>8.5</td>\n",
       "      <td>0</td>\n",
       "      <td>1</td>\n",
       "      <td>0</td>\n",
       "    </tr>\n",
       "  </tbody>\n",
       "</table>\n",
       "</div>"
      ],
      "text/plain": [
       "   length  diameter  height  whole_wt  shucked_wt  viscera_wt  shell_wt  \\\n",
       "0   0.455     0.365   0.095    0.5140      0.2245      0.1010     0.150   \n",
       "1   0.350     0.265   0.090    0.2255      0.0995      0.0485     0.070   \n",
       "2   0.530     0.420   0.135    0.6770      0.2565      0.1415     0.210   \n",
       "3   0.440     0.365   0.125    0.5160      0.2155      0.1140     0.155   \n",
       "4   0.330     0.255   0.080    0.2050      0.0895      0.0395     0.055   \n",
       "\n",
       "   rings   age  sex_F  sex_I  sex_M  \n",
       "0     15  16.5      0      0      1  \n",
       "1      7   8.5      0      0      1  \n",
       "2      9  10.5      1      0      0  \n",
       "3     10  11.5      0      0      1  \n",
       "4      7   8.5      0      1      0  "
      ]
     },
     "execution_count": 171,
     "metadata": {},
     "output_type": "execute_result"
    }
   ],
   "source": [
    "abalone = pd.get_dummies(abalone)\n",
    "abalone.head()"
   ]
  },
  {
   "cell_type": "markdown",
   "id": "24d93ca8",
   "metadata": {},
   "source": [
    "# Split the dataset"
   ]
  },
  {
   "cell_type": "code",
   "execution_count": 172,
   "id": "9f19a5bc",
   "metadata": {},
   "outputs": [],
   "source": [
    "X = abalone.drop(columns=[\"age\",\"rings\"])\n",
    "y = abalone[\"age\"]"
   ]
  },
  {
   "cell_type": "code",
   "execution_count": 173,
   "id": "fd4a18ad",
   "metadata": {},
   "outputs": [],
   "source": [
    "train_X, test_X, train_y, test_y = train_test_split(X,y, test_size=0.2, train_size=0.8, random_state=42, shuffle=True)"
   ]
  },
  {
   "cell_type": "code",
   "execution_count": 174,
   "id": "c4454257",
   "metadata": {},
   "outputs": [
    {
     "data": {
      "text/plain": [
       "(3341, 10)"
      ]
     },
     "execution_count": 174,
     "metadata": {},
     "output_type": "execute_result"
    }
   ],
   "source": [
    "train_X.shape"
   ]
  },
  {
   "cell_type": "code",
   "execution_count": 175,
   "id": "a256252b",
   "metadata": {},
   "outputs": [
    {
     "data": {
      "text/plain": [
       "(3341,)"
      ]
     },
     "execution_count": 175,
     "metadata": {},
     "output_type": "execute_result"
    }
   ],
   "source": [
    "train_y.shape"
   ]
  },
  {
   "cell_type": "markdown",
   "id": "04bec0ec",
   "metadata": {},
   "source": [
    "### Scale the data for better prediction accuracy"
   ]
  },
  {
   "cell_type": "code",
   "execution_count": 176,
   "id": "99f1c2fd",
   "metadata": {},
   "outputs": [],
   "source": [
    "scaler = MinMaxScaler(feature_range=(0,1))\n",
    "\n",
    "train_X = scaler.fit_transform(train_X)\n",
    "test_X = scaler.transform(test_X)"
   ]
  },
  {
   "cell_type": "code",
   "execution_count": 177,
   "id": "ba6edc68",
   "metadata": {},
   "outputs": [
    {
     "data": {
      "text/plain": [
       "array([[0.64189189, 0.65546218, 0.11061947, 0.23729414, 0.19300605,\n",
       "        0.17906517, 0.2077728 , 0.        , 1.        , 0.        ],\n",
       "       [0.54054054, 0.50420168, 0.08849558, 0.17761643, 0.16980498,\n",
       "        0.11915734, 0.13801694, 0.        , 1.        , 0.        ],\n",
       "       [0.31081081, 0.28571429, 0.0619469 , 0.05188596, 0.03866846,\n",
       "        0.04344964, 0.04334828, 1.        , 0.        , 0.        ]])"
      ]
     },
     "execution_count": 177,
     "metadata": {},
     "output_type": "execute_result"
    }
   ],
   "source": [
    "train_X[:3]"
   ]
  },
  {
   "cell_type": "code",
   "execution_count": 178,
   "id": "7c4056d7",
   "metadata": {},
   "outputs": [
    {
     "data": {
      "text/plain": [
       "array([[0.71621622, 0.67226891, 0.14159292, 0.39011865, 0.28244788,\n",
       "        0.39631336, 0.3223717 , 0.        , 0.        , 1.        ],\n",
       "       [0.69594595, 0.64705882, 0.13274336, 0.30830529, 0.25958305,\n",
       "        0.28242265, 0.24265072, 0.        , 0.        , 1.        ],\n",
       "       [0.65540541, 0.65546218, 0.17256637, 0.34673278, 0.20443847,\n",
       "        0.29493088, 0.33233682, 1.        , 0.        , 0.        ]])"
      ]
     },
     "execution_count": 178,
     "metadata": {},
     "output_type": "execute_result"
    }
   ],
   "source": [
    "test_X[:3]"
   ]
  },
  {
   "cell_type": "markdown",
   "id": "60f66f5c",
   "metadata": {},
   "source": [
    "# Model Training"
   ]
  },
  {
   "cell_type": "code",
   "execution_count": 179,
   "id": "14c3bf00",
   "metadata": {},
   "outputs": [],
   "source": [
    "model = LinearRegression(n_jobs=-1)"
   ]
  },
  {
   "cell_type": "code",
   "execution_count": 180,
   "id": "81bb8504",
   "metadata": {},
   "outputs": [
    {
     "data": {
      "text/plain": [
       "LinearRegression(n_jobs=-1)"
      ]
     },
     "execution_count": 180,
     "metadata": {},
     "output_type": "execute_result"
    }
   ],
   "source": [
    "model.fit(train_X, train_y)"
   ]
  },
  {
   "cell_type": "markdown",
   "id": "4f75d92b",
   "metadata": {},
   "source": [
    "# Model Evaluation"
   ]
  },
  {
   "cell_type": "code",
   "execution_count": 183,
   "id": "1afe122d",
   "metadata": {},
   "outputs": [],
   "source": [
    "preds = model.predict(test_X)"
   ]
  },
  {
   "cell_type": "code",
   "execution_count": 189,
   "id": "37529f51",
   "metadata": {},
   "outputs": [
    {
     "data": {
      "text/plain": [
       "0.5484132854012416"
      ]
     },
     "execution_count": 189,
     "metadata": {},
     "output_type": "execute_result"
    }
   ],
   "source": [
    "accuracy = model.score(test_X, test_y)\n",
    "accuracy"
   ]
  },
  {
   "cell_type": "code",
   "execution_count": 248,
   "id": "b919b11a",
   "metadata": {},
   "outputs": [],
   "source": [
    "preds = model.predict(test_X)\n",
    "preds = pd.Series(preds, index=test_y.index, name=\"Predictions\")"
   ]
  },
  {
   "cell_type": "code",
   "execution_count": 254,
   "id": "ce6d0433",
   "metadata": {},
   "outputs": [],
   "source": [
    "evaluation_df = pd.DataFrame(data={\"actual\": test_y, \"prediction\": preds})"
   ]
  },
  {
   "cell_type": "code",
   "execution_count": 255,
   "id": "41f98a68",
   "metadata": {},
   "outputs": [
    {
     "data": {
      "text/html": [
       "<div>\n",
       "<style scoped>\n",
       "    .dataframe tbody tr th:only-of-type {\n",
       "        vertical-align: middle;\n",
       "    }\n",
       "\n",
       "    .dataframe tbody tr th {\n",
       "        vertical-align: top;\n",
       "    }\n",
       "\n",
       "    .dataframe thead th {\n",
       "        text-align: right;\n",
       "    }\n",
       "</style>\n",
       "<table border=\"1\" class=\"dataframe\">\n",
       "  <thead>\n",
       "    <tr style=\"text-align: right;\">\n",
       "      <th></th>\n",
       "      <th>actual</th>\n",
       "      <th>prediction</th>\n",
       "    </tr>\n",
       "  </thead>\n",
       "  <tbody>\n",
       "    <tr>\n",
       "      <th>866</th>\n",
       "      <td>10.5</td>\n",
       "      <td>13.250000</td>\n",
       "    </tr>\n",
       "    <tr>\n",
       "      <th>1483</th>\n",
       "      <td>9.5</td>\n",
       "      <td>11.730469</td>\n",
       "    </tr>\n",
       "  </tbody>\n",
       "</table>\n",
       "</div>"
      ],
      "text/plain": [
       "      actual  prediction\n",
       "866     10.5   13.250000\n",
       "1483     9.5   11.730469"
      ]
     },
     "execution_count": 255,
     "metadata": {},
     "output_type": "execute_result"
    }
   ],
   "source": [
    "evaluation_df.head(2)"
   ]
  },
  {
   "cell_type": "code",
   "execution_count": 260,
   "id": "7292bb52",
   "metadata": {},
   "outputs": [
    {
     "data": {
      "text/plain": [
       "1.5928809061004785"
      ]
     },
     "execution_count": 260,
     "metadata": {},
     "output_type": "execute_result"
    }
   ],
   "source": [
    "mean_absolute_error(test_y, preds)"
   ]
  },
  {
   "cell_type": "code",
   "execution_count": null,
   "id": "327edc20",
   "metadata": {},
   "outputs": [],
   "source": []
  }
 ],
 "metadata": {
  "kernelspec": {
   "display_name": "Python 3 (ipykernel)",
   "language": "python",
   "name": "python3"
  },
  "language_info": {
   "codemirror_mode": {
    "name": "ipython",
    "version": 3
   },
   "file_extension": ".py",
   "mimetype": "text/x-python",
   "name": "python",
   "nbconvert_exporter": "python",
   "pygments_lexer": "ipython3",
   "version": "3.9.7"
  }
 },
 "nbformat": 4,
 "nbformat_minor": 5
}
